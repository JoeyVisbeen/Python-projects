{
 "cells": [
  {
   "cell_type": "code",
   "execution_count": 3,
   "metadata": {},
   "outputs": [],
   "source": [
    "from os import getenv\n",
    "from llama_index.vector_stores.opensearch import (\n",
    "    OpensearchVectorStore,\n",
    "    OpensearchVectorClient,\n",
    ")\n",
    "\n",
    "endpoint = 'http://localhost:9200'\n",
    "idx = ''\n",
    "\n",
    "client = OpensearchVectorClient(\n",
    "    endpoint,\n",
    "    idx,\n",
    "    4096,\n",
    "    embedding_field='embedding',\n",
    "    text_field='content',\n",
    "    search_pipeline='hybride-search-pipeline',\n",
    ")"
   ]
  },
  {
   "cell_type": "code",
   "execution_count": null,
   "metadata": {},
   "outputs": [],
   "source": []
  }
 ],
 "metadata": {
  "kernelspec": {
   "display_name": "Python 3",
   "language": "python",
   "name": "python3"
  },
  "language_info": {
   "codemirror_mode": {
    "name": "ipython",
    "version": 3
   },
   "file_extension": ".py",
   "mimetype": "text/x-python",
   "name": "python",
   "nbconvert_exporter": "python",
   "pygments_lexer": "ipython3",
   "version": "3.10.12"
  }
 },
 "nbformat": 4,
 "nbformat_minor": 2
}
